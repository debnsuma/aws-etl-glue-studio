{
	"metadata": {
		"kernelspec": {
			"name": "glue_pyspark",
			"display_name": "Glue PySpark",
			"language": "python"
		},
		"language_info": {
			"name": "Python_Glue_Session",
			"mimetype": "text/x-python",
			"codemirror_mode": {
				"name": "python",
				"version": 3
			},
			"pygments_lexer": "python3",
			"file_extension": ".py"
		}
	},
	"nbformat_minor": 4,
	"nbformat": 4,
	"cells": [
		{
			"cell_type": "markdown",
			"source": "# AWS Glue Studio Notebook\n##### You are now running a AWS Glue Studio notebook; To start using your notebook you need to start an AWS Glue Interactive Session.\n",
			"metadata": {
				"editable": true,
				"trusted": true
			}
		},
		{
			"cell_type": "markdown",
			"source": "#### Optional: Run this cell to see available notebook commands (\"magics\").\n",
			"metadata": {
				"editable": true,
				"trusted": true
			}
		},
		{
			"cell_type": "code",
			"source": "%help",
			"metadata": {
				"editable": true,
				"trusted": true
			},
			"execution_count": 2,
			"outputs": [
				{
					"name": "stdout",
					"text": "Welcome to the Glue Interactive Sessions Kernel\nFor more information on available magic commands, please type %help in any new cell.\n\nPlease view our Getting Started page to access the most up-to-date information on the Interactive Sessions kernel: https://docs.aws.amazon.com/glue/latest/dg/interactive-sessions.html\nInstalled kernel version: 0.37.3 \n",
					"output_type": "stream"
				},
				{
					"output_type": "display_data",
					"data": {
						"text/markdown": "\n# Available Magic Commands\n\n## Sessions Magic\n\n----\n    %help                             Return a list of descriptions and input types for all magic commands. \n    %profile            String        Specify a profile in your aws configuration to use as the credentials provider.\n    %region             String        Specify the AWS region in which to initialize a session. \n                                      Default from ~/.aws/config on Linux or macOS, \n                                      or C:\\Users\\ USERNAME \\.aws\\config\" on Windows.\n    %idle_timeout       Int           The number of minutes of inactivity after which a session will timeout. \n                                      Default: 2880 minutes (48 hours).\n    %session_id_prefix  String        Define a String that will precede all session IDs in the format \n                                      [session_id_prefix]-[session_id]. If a session ID is not provided,\n                                      a random UUID will be generated.\n    %status                           Returns the status of the current Glue session including its duration, \n                                      configuration and executing user / role.\n    %session_id                       Returns the session ID for the running session. \n    %list_sessions                    Lists all currently running sessions by ID.\n    %stop_session                     Stops the current session.\n    %glue_version       String        The version of Glue to be used by this session. \n                                      Currently, the only valid options are 2.0 and 3.0. \n                                      Default: 2.0.\n----\n\n## Selecting Job Types\n\n----\n    %streaming          String        Sets the session type to Glue Streaming.\n    %etl                String        Sets the session type to Glue ETL.\n    %glue_ray           String        Sets the session type to Glue Ray.\n----\n\n## Glue Config Magic \n*(common across all job types)*\n\n----\n\n    %%configure         Dictionary    A json-formatted dictionary consisting of all configuration parameters for \n                                      a session. Each parameter can be specified here or through individual magics.\n    %iam_role           String        Specify an IAM role ARN to execute your session with.\n                                      Default from ~/.aws/config on Linux or macOS, \n                                      or C:\\Users\\%USERNAME%\\.aws\\config` on Windows.\n    %number_of_workers  int           The number of workers of a defined worker_type that are allocated \n                                      when a session runs.\n                                      Default: 5.\n    %additional_python_modules  List  Comma separated list of additional Python modules to include in your cluster \n                                      (can be from Pypi or S3).\n----\n\n                                      \n## Magic for Spark Jobs (ETL & Streaming)\n\n----\n    %worker_type        String        Set the type of instances the session will use as workers. \n                                      ETL and Streaming support G.1X, G.2X, G.4X and G.8X. \n                                      Default: G.1X.\n    %connections        List          Specify a comma separated list of connections to use in the session.\n    %extra_py_files     List          Comma separated list of additional Python files From S3.\n    %extra_jars         List          Comma separated list of additional Jars to include in the cluster.\n    %spark_conf         String        Specify custom spark configurations for your session. \n                                      E.g. %spark_conf spark.serializer=org.apache.spark.serializer.KryoSerializer\n----\n                                      \n## Magic for Ray Job\n\n----\n    %min_workers        Int           The minimum number of workers that are allocated to a Ray job. \n                                      Default: 1.\n    %object_memory_head Int           The percentage of free memory on the instance head node after a warm start. \n                                      Minimum: 0. Maximum: 100.\n    %object_memory_worker Int         The percentage of free memory on the instance worker nodes after a warm start. \n                                      Minimum: 0. Maximum: 100.\n----\n\n## Action Magic\n\n----\n\n    %%sql               String        Run SQL code. All lines after the initial %%sql magic will be passed\n                                      as part of the SQL code.  \n----\n\n"
					},
					"metadata": {}
				}
			]
		},
		{
			"cell_type": "markdown",
			"source": "####  Run this cell to set up and start your interactive session.\n",
			"metadata": {
				"editable": true,
				"trusted": true
			}
		},
		{
			"cell_type": "code",
			"source": "%idle_timeout 2880\n%number_of_workers 5",
			"metadata": {
				"editable": true,
				"trusted": true
			},
			"execution_count": 5,
			"outputs": [
				{
					"name": "stdout",
					"text": "Current idle_timeout is 60 minutes.\nidle_timeout has been set to 2880 minutes.\nPrevious number of workers: 5\nSetting new number of workers to: 5\n",
					"output_type": "stream"
				}
			]
		},
		{
			"cell_type": "markdown",
			"source": "# Importing the `libraries`",
			"metadata": {}
		},
		{
			"cell_type": "code",
			"source": "%glue_ray\n\nimport ray\nimport pandas\nimport pyarrow\nfrom ray import data\nimport time\nfrom ray.data import ActorPoolStrategy\n",
			"metadata": {
				"trusted": true
			},
			"execution_count": 1,
			"outputs": [
				{
					"name": "stdout",
					"text": "Previous Job type: glueray\nSetting new Job type to glueray\nAuthenticating with environment variables and user-defined glue_role_arn: arn:aws:iam::507922848584:role/AWSGlueServiceRole-glueworkshop\nTrying to create a Glue session for the kernel.\nWorker Type: Z.2X\nNumber of Workers: 5\nSession ID: c9cfedfb-3a7f-4aaa-8742-54f71201ce57\nJob Type: glueray\nApplying the following default arguments:\n--glue_kernel_version 0.37.3\n--enable-glue-datacatalog true\n--auto-scaling-ray-min-workers 1\nWaiting for session c9cfedfb-3a7f-4aaa-8742-54f71201ce57 to get into ready status...\nSession c9cfedfb-3a7f-4aaa-8742-54f71201ce57 has been created.\n",
					"output_type": "stream"
				}
			]
		},
		{
			"cell_type": "markdown",
			"source": "# Initialize a `Ray` Cluster with AWS Glue",
			"metadata": {}
		},
		{
			"cell_type": "code",
			"source": "ray.init('auto')\n",
			"metadata": {
				"trusted": true
			},
			"execution_count": 2,
			"outputs": [
				{
					"name": "stdout",
					"text": "RayContext(dashboard_url='127.0.0.1:8265', python_version='3.9.16', ray_version='2.0.0', ray_commit='{{RAY_COMMIT_SHA}}', address_info={'node_ip_address': '2600:1f13:4de:1a21:e7c1:8c9:c8a0:a1f3', 'raylet_ip_address': '2600:1f13:4de:1a21:e7c1:8c9:c8a0:a1f3', 'redis_address': None, 'object_store_address': '/tmp/ray/session_2023-05-15_15-44-22_009317_1668/sockets/plasma_store', 'raylet_socket_name': '/tmp/ray/session_2023-05-15_15-44-22_009317_1668/sockets/raylet', 'webui_url': '127.0.0.1:8265', 'session_dir': '/tmp/ray/session_2023-05-15_15-44-22_009317_1668', 'metrics_export_port': 8080, 'gcs_address': '2600:1f13:4de:1a21:e7c1:8c9:c8a0:a1f3:6379', 'address': '2600:1f13:4de:1a21:e7c1:8c9:c8a0:a1f3:6379', 'dashboard_agent_listen_port': 52365, 'node_id': '6273d5cf59d7337eca8aa808b919553cfb5fd4a5545f5636b254fc6e'})\n",
					"output_type": "stream"
				},
				{
					"name": "stderr",
					"text": "2023-05-15 15:46:05,827\tINFO worker.py:1329 -- Connecting to existing Ray cluster at address: 2600:1f13:4de:1a21:e7c1:8c9:c8a0:a1f3:6379...\n2023-05-15 15:46:05,834\tINFO worker.py:1511 -- Connected to Ray cluster. View the dashboard at \u001b[1m\u001b[32m127.0.0.1:8265 \u001b[39m\u001b[22m\n",
					"output_type": "stream"
				}
			]
		},
		{
			"cell_type": "code",
			"source": "ray.cluster_resources()",
			"metadata": {
				"trusted": true
			},
			"execution_count": 3,
			"outputs": [
				{
					"name": "stdout",
					"text": "{'node:2600:1f13:4de:1a21:e7c1:8c9:c8a0:a1f3': 1.0, 'CPU': 8.0, 'memory': 40241570612.0, 'object_store_memory': 20120785305.0}\n",
					"output_type": "stream"
				}
			]
		},
		{
			"cell_type": "code",
			"source": "ray.nodes()",
			"metadata": {
				"trusted": true
			},
			"execution_count": 4,
			"outputs": [
				{
					"name": "stdout",
					"text": "[{'NodeID': '6273d5cf59d7337eca8aa808b919553cfb5fd4a5545f5636b254fc6e', 'Alive': True, 'NodeManagerAddress': '2600:1f13:4de:1a21:e7c1:8c9:c8a0:a1f3', 'NodeManagerHostname': 'localhost', 'NodeManagerPort': 44481, 'ObjectManagerPort': 38363, 'ObjectStoreSocketName': '/tmp/ray/session_2023-05-15_15-44-22_009317_1668/sockets/plasma_store', 'RayletSocketName': '/tmp/ray/session_2023-05-15_15-44-22_009317_1668/sockets/raylet', 'MetricsExportPort': 8080, 'NodeName': '2600:1f13:4de:1a21:e7c1:8c9:c8a0:a1f3', 'alive': True, 'Resources': {'node:2600:1f13:4de:1a21:e7c1:8c9:c8a0:a1f3': 1.0, 'memory': 40241570612.0, 'CPU': 8.0, 'object_store_memory': 20120785305.0}}]\n",
					"output_type": "stream"
				}
			]
		},
		{
			"cell_type": "markdown",
			"source": "# Read the dataset in `Parquet` file format",
			"metadata": {}
		},
		{
			"cell_type": "code",
			"source": "start = time.time()\nds = ray.data.read_parquet(\"s3://amazon-reviews-pds/parquet/product_category=Toys/\")\nend = time.time()\n\nprint(f\"Reading the data to dataframe: {round(end - start, 2)} seconds\")",
			"metadata": {
				"trusted": true
			},
			"execution_count": 12,
			"outputs": [
				{
					"name": "stdout",
					"text": "Reading the data to dataframe: 1.87 seconds\n",
					"output_type": "stream"
				}
			]
		},
		{
			"cell_type": "code",
			"source": "ds.schema()",
			"metadata": {
				"trusted": true
			},
			"execution_count": 13,
			"outputs": [
				{
					"name": "stdout",
					"text": "marketplace: string\ncustomer_id: string\nreview_id: string\nproduct_id: string\nproduct_parent: string\nproduct_title: string\nstar_rating: int32\nhelpful_votes: int32\ntotal_votes: int32\nvine: string\nverified_purchase: string\nreview_headline: string\nreview_body: string\nreview_date: date32[day]\nyear: int32\n-- schema metadata --\norg.apache.spark.sql.parquet.row.metadata: '{\"type\":\"struct\",\"fields\":[{\"' + 1036\n",
					"output_type": "stream"
				}
			]
		},
		{
			"cell_type": "code",
			"source": "ds.show(1)",
			"metadata": {
				"trusted": true
			},
			"execution_count": 14,
			"outputs": [
				{
					"name": "stdout",
					"text": "{'marketplace': 'DE', 'customer_id': '47664801', 'review_id': 'R1DLS0N7LMVO8U', 'product_id': 'B000VSAEYI', 'product_parent': '128046393', 'product_title': 'Intex 57454NP - Ozean Play Center, 254 x 196 x 79 cm', 'star_rating': 5, 'helpful_votes': 0, 'total_votes': 0, 'vine': 'N', 'verified_purchase': 'N', 'review_headline': 'Top!', 'review_body': 'Wir sind total begeistert und unser Sohn ebenfalls.<br />Der Artikel hat bisher gehalten, was er verspricht.<br />Wir haben viel Spaß und ich kann das Becken weiterempfehlen.', 'review_date': datetime.date(2012, 6, 30), 'year': 2012}\n",
					"output_type": "stream"
				}
			]
		},
		{
			"cell_type": "markdown",
			"source": "# Applying few `transformations` with Ray",
			"metadata": {}
		},
		{
			"cell_type": "markdown",
			"source": "### 1) Add the given `new column` to the dataset and show the sample record after adding a new column\n",
			"metadata": {}
		},
		{
			"cell_type": "code",
			"source": "\nds = ds.add_column( \"helpful_votes_ratio\", lambda df: df[\"helpful_votes\"] / df[\"total_votes\"])\n\nds.show(1)",
			"metadata": {
				"trusted": true
			},
			"execution_count": 15,
			"outputs": [
				{
					"name": "stdout",
					"text": "{'marketplace': 'DE', 'customer_id': '47664801', 'review_id': 'R1DLS0N7LMVO8U', 'product_id': 'B000VSAEYI', 'product_parent': '128046393', 'product_title': 'Intex 57454NP - Ozean Play Center, 254 x 196 x 79 cm', 'star_rating': 5, 'helpful_votes': 0, 'total_votes': 0, 'vine': 'N', 'verified_purchase': 'N', 'review_headline': 'Top!', 'review_body': 'Wir sind total begeistert und unser Sohn ebenfalls.<br />Der Artikel hat bisher gehalten, was er verspricht.<br />Wir haben viel Spaß und ich kann das Becken weiterempfehlen.', 'review_date': datetime.date(2012, 6, 30), 'year': 2012, 'helpful_votes_ratio': nan}\n",
					"output_type": "stream"
				},
				{
					"name": "stderr",
					"text": "Read->Map_Batches: 100%|##########| 10/10 [00:33<00:00,  3.30s/it]\n",
					"output_type": "stream"
				}
			]
		},
		{
			"cell_type": "markdown",
			"source": "#### 2) Dropping `few columns` from the underlying Dataset \n",
			"metadata": {}
		},
		{
			"cell_type": "code",
			"source": "ds = ds.drop_columns([\"review_body\", \"vine\", \"product_parent\", \"verified_purchase\", \"review_headline\"])\n\nds.schema()",
			"metadata": {
				"trusted": true
			},
			"execution_count": 17,
			"outputs": [
				{
					"name": "stdout",
					"text": "PandasBlockSchema(names=['marketplace', 'customer_id', 'review_id', 'product_id', 'product_title', 'star_rating', 'helpful_votes', 'total_votes', 'review_date', 'year', 'helpful_votes_ratio'], types=[dtype('O'), dtype('O'), dtype('O'), dtype('O'), dtype('O'), dtype('int32'), dtype('int32'), dtype('int32'), dtype('O'), dtype('int32'), dtype('float64')])\n",
					"output_type": "stream"
				},
				{
					"name": "stderr",
					"text": "Map_Batches: 100%|##########| 10/10 [00:04<00:00,  2.26it/s]\n",
					"output_type": "stream"
				}
			]
		},
		{
			"cell_type": "markdown",
			"source": "# Write the `processed data` into the S3 bucket",
			"metadata": {}
		},
		{
			"cell_type": "code",
			"source": "my_bucket = 's3://data-engg-demo/dataset/ray_output/'\n\nds.write_parquet(my_bucket)",
			"metadata": {
				"trusted": true
			},
			"execution_count": 18,
			"outputs": [
				{
					"name": "stderr",
					"text": "Write Progress: 100%|##########| 10/10 [00:12<00:00,  1.24s/it]\n",
					"output_type": "stream"
				}
			]
		},
		{
			"cell_type": "code",
			"source": "",
			"metadata": {},
			"execution_count": null,
			"outputs": []
		}
	]
}