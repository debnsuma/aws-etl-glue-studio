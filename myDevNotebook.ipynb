{
	"metadata": {
		"kernelspec": {
			"name": "glue_pyspark",
			"display_name": "Glue PySpark",
			"language": "python"
		},
		"language_info": {
			"name": "Python_Glue_Session",
			"mimetype": "text/x-python",
			"codemirror_mode": {
				"name": "python",
				"version": 3
			},
			"pygments_lexer": "python3",
			"file_extension": ".py"
		}
	},
	"nbformat_minor": 4,
	"nbformat": 4,
	"cells": [
		{
			"cell_type": "markdown",
			"source": "\n# Glue Studio Notebook\nYou are now running a **Glue Studio** notebook; before you can start using your notebook you *must* start an interactive session.\n\n## Available Magics\n|          Magic              |   Type       |                                                                        Description                                                                        |\n|-----------------------------|--------------|-----------------------------------------------------------------------------------------------------------------------------------------------------------|\n| %%configure                 |  Dictionary  |  A json-formatted dictionary consisting of all configuration parameters for a session. Each parameter can be specified here or through individual magics. |\n| %profile                    |  String      |  Specify a profile in your aws configuration to use as the credentials provider.                                                                          |\n| %iam_role                   |  String      |  Specify an IAM role to execute your session with.                                                                                                        |\n| %region                     |  String      |  Specify the AWS region in which to initialize a session.                                                                                                 |\n| %session_id                 |  String      |  Returns the session ID for the running session.                                                                                                          |\n| %connections                |  List        |  Specify a comma separated list of connections to use in the session.                                                                                     |\n| %additional_python_modules  |  List        |  Comma separated list of pip packages, s3 paths or private pip arguments.                                                                                 |\n| %extra_py_files             |  List        |  Comma separated list of additional Python files from S3.                                                                                                 |\n| %extra_jars                 |  List        |  Comma separated list of additional Jars to include in the cluster.                                                                                       |\n| %number_of_workers          |  Integer     |  The number of workers of a defined worker_type that are allocated when a job runs. worker_type must be set too.                                          |\n| %glue_version               |  String      |  The version of Glue to be used by this session. Currently, the only valid options are 2.0 and 3.0 (eg: %glue_version 2.0).                               |\n| %security_config            |  String      |  Define a security configuration to be used with this session.                                                                                            |\n| %sql                        |  String      |  Run SQL code. All lines after the initial %%sql magic will be passed as part of the SQL code.                                                            |\n| %streaming                  |  String      |  Changes the session type to Glue Streaming.                                                                                                              |\n| %etl                        |  String      |  Changes the session type to Glue ETL.                                                                                                                    |\n| %status                     |              |  Returns the status of the current Glue session including its duration, configuration and executing user / role.                                          |\n| %stop_session               |              |  Stops the current session.                                                                                                                               |\n| %list_sessions              |              |  Lists all currently running sessions by name and ID.                                                                                                     |\n| %min_workers                |  Integer     |  The minimum number of workers that are allocated to a Ray job. Default: 0.                                                                                  |\n| %object_memory_head         |  Integer     |  The percentage of free memory on the instance head node after a warm start. Minimum: 0. Maximum: 100.                                                       |\n| %object_memory_worker       |  Integer     |  The percentage of free memory on the instance worker nodes after a warm start. Minimum: 0. Maximum: 100.                                                    |",
			"metadata": {
				"editable": false,
				"deletable": false,
				"trusted": true
			}
		},
		{
			"cell_type": "markdown",
			"source": "# Importing the `libraries`",
			"metadata": {}
		},
		{
			"cell_type": "code",
			"source": "%glue_ray\n\nimport ray\nimport pandas\nimport pyarrow\nfrom ray import data\nimport time\nfrom ray.data import ActorPoolStrategy",
			"metadata": {
				"editable": true,
				"trusted": true
			},
			"execution_count": 1,
			"outputs": [
				{
					"name": "stdout",
					"text": "Welcome to the Glue Interactive Sessions Kernel\nFor more information on available magic commands, please type %help in any new cell.\n\nPlease view our Getting Started page to access the most up-to-date information on the Interactive Sessions kernel: https://docs.aws.amazon.com/glue/latest/dg/interactive-sessions.html\nInstalled kernel version: 0.37.0 \nPrevious Job type: glueray\nSetting new Job type to glueray\nAuthenticating with environment variables and user-defined glue_role_arn: arn:aws:iam::507922848584:role/AWSGlueServiceRole-glueworkshop\nTrying to create a Glue session for the kernel.\nWorker Type: Z.2X\nNumber of Workers: 5\nSession ID: d2aa0686-6fd0-4013-9592-a917bc4db5af\nJob Type: glueray\nApplying the following default arguments:\n--glue_kernel_version 0.37.0\n--enable-glue-datacatalog true\nWaiting for session d2aa0686-6fd0-4013-9592-a917bc4db5af to get into ready status...\nSession d2aa0686-6fd0-4013-9592-a917bc4db5af has been created.\n",
					"output_type": "stream"
				}
			]
		},
		{
			"cell_type": "markdown",
			"source": "# Initialize a `Ray` Cluster with AWS Glue",
			"metadata": {}
		},
		{
			"cell_type": "code",
			"source": "ray.init('auto')",
			"metadata": {
				"trusted": true
			},
			"execution_count": 2,
			"outputs": [
				{
					"name": "stdout",
					"text": "RayContext(dashboard_url='127.0.0.1:8265', python_version='3.9.14', ray_version='2.0.0', ray_commit='{{RAY_COMMIT_SHA}}', address_info={'node_ip_address': '2600:1f14:27:7e13:603a:287b:d027:e58c', 'raylet_ip_address': '2600:1f14:27:7e13:603a:287b:d027:e58c', 'redis_address': None, 'object_store_address': '/tmp/ray/session_2023-01-30_23-21-28_870018_1672/sockets/plasma_store', 'raylet_socket_name': '/tmp/ray/session_2023-01-30_23-21-28_870018_1672/sockets/raylet', 'webui_url': '127.0.0.1:8265', 'session_dir': '/tmp/ray/session_2023-01-30_23-21-28_870018_1672', 'metrics_export_port': 8080, 'gcs_address': '2600:1f14:27:7e13:603a:287b:d027:e58c:6379', 'address': '2600:1f14:27:7e13:603a:287b:d027:e58c:6379', 'dashboard_agent_listen_port': 52365, 'node_id': '25b1727f3e9fc349075ba9dc98ca079272a501b7748ed7afe88d429c'})\n",
					"output_type": "stream"
				},
				{
					"name": "stderr",
					"text": "2023-01-30 23:21:44,983\tINFO worker.py:1329 -- Connecting to existing Ray cluster at address: 2600:1f14:27:7e13:603a:287b:d027:e58c:6379...\n2023-01-30 23:21:44,991\tINFO worker.py:1511 -- Connected to Ray cluster. View the dashboard at \u001b[1m\u001b[32m127.0.0.1:8265 \u001b[39m\u001b[22m\n",
					"output_type": "stream"
				}
			]
		},
		{
			"cell_type": "markdown",
			"source": "# Read the dataset in `Parquet` file format",
			"metadata": {}
		},
		{
			"cell_type": "code",
			"source": "start = time.time()\nds = ray.data.read_parquet(\"s3://amazon-reviews-pds/parquet/product_category=Wireless/\")\nend = time.time()\n\nprint(f\"Reading the data to dataframe: {round(end - start, 2)} seconds\")",
			"metadata": {
				"trusted": true
			},
			"execution_count": 3,
			"outputs": [
				{
					"name": "stdout",
					"text": "Reading the data to dataframe: 3.15 seconds\n",
					"output_type": "stream"
				}
			]
		},
		{
			"cell_type": "code",
			"source": "print(ds.schema())",
			"metadata": {
				"trusted": true
			},
			"execution_count": 4,
			"outputs": [
				{
					"name": "stdout",
					"text": "marketplace: string\ncustomer_id: string\nreview_id: string\nproduct_id: string\nproduct_parent: string\nproduct_title: string\nstar_rating: int32\nhelpful_votes: int32\ntotal_votes: int32\nvine: string\nverified_purchase: string\nreview_headline: string\nreview_body: string\nreview_date: date32[day]\nyear: int32\n-- schema metadata --\norg.apache.spark.sql.parquet.row.metadata: '{\"type\":\"struct\",\"fields\":[{\"' + 1036\n",
					"output_type": "stream"
				}
			]
		},
		{
			"cell_type": "code",
			"source": "print(ds.size_bytes())",
			"metadata": {
				"trusted": true
			},
			"execution_count": 5,
			"outputs": [
				{
					"name": "stdout",
					"text": "20487684500\n",
					"output_type": "stream"
				}
			]
		},
		{
			"cell_type": "markdown",
			"source": "# Applying dataset `transformations` with Ray",
			"metadata": {}
		},
		{
			"cell_type": "code",
			"source": "# Dropping few columns from the underlying Dataset \nstart = time.time()\nds = ds.drop_columns([\"review_body\", \"vine\", \"product_parent\", \"verified_purchase\", \"review_headline\"])\nend = time.time()\n\nprint(f\"Time taken to drop a few columns : {round(end - start, 2)} seconds\")\nds.schema()",
			"metadata": {
				"trusted": true
			},
			"execution_count": 6,
			"outputs": [
				{
					"name": "stdout",
					"text": "Time taken to drop a few columns : 89.8 seconds\nPandasBlockSchema(names=['marketplace', 'customer_id', 'review_id', 'product_id', 'product_title', 'star_rating', 'helpful_votes', 'total_votes', 'review_date', 'year'], types=[dtype('O'), dtype('O'), dtype('O'), dtype('O'), dtype('O'), dtype('int32'), dtype('int32'), dtype('int32'), dtype('O'), dtype('int32')])\n",
					"output_type": "stream"
				},
				{
					"name": "stderr",
					"text": "Read->Map_Batches:   0%|          | 0/10 [00:00<?, ?it/s]\u001b[2m\u001b[33m(raylet, ip=169.254.1.2)\u001b[0m /opt/amazon/python3.9-ray/lib/python3.9/site-packages/ray/dashboard/modules/reporter/reporter_agent.py:46: UserWarning: `gpustat` package is not installed. GPU monitoring is not available. To have full functionality of the dashboard please install `pip install ray[default]`.)\n\u001b[2m\u001b[33m(raylet, ip=169.254.1.2)\u001b[0m   warnings.warn(\nRead->Map_Batches: 100%|##########| 10/10 [01:29<00:00,  8.98s/it]\n",
					"output_type": "stream"
				}
			]
		},
		{
			"cell_type": "code",
			"source": "#Sort the dataset by total votes\nstart = time.time()\nds =ds.sort(\"total_votes\")\nend = time.time()\n\nprint(f\"Time taken for sort operation  : {end - start} seconds\")\nds.show(3)",
			"metadata": {
				"trusted": true
			},
			"execution_count": 7,
			"outputs": [
				{
					"name": "stdout",
					"text": "Time taken for sort operation  : 36.849875926971436 seconds\n{'marketplace': 'US', 'customer_id': '3440602', 'review_id': 'RQZTNLO53E78V', 'product_id': 'B00D30TTOM', 'product_title': 'GreatShield Stretchable Neoprene Sport Armband Case with Key Storage for Galaxy S8/S7, HTC One M9/M8/M7, LG G3/G2, Moto G5, Nokia 3', 'star_rating': 4, 'helpful_votes': 0, 'total_votes': 0, 'review_date': datetime.date(2015, 1, 9), 'year': 2015}\n{'marketplace': 'US', 'customer_id': '25538031', 'review_id': 'R1H9GHPRAIKCP8', 'product_id': 'B008AGQMQC', 'product_title': 'Mpow Bluetooth Receiver, Protable Bluetooth 4.1 Car Adapter & Bluetooth Car Aux Adapter for Music Streaming Sound System, Hands-free Audio Adapter & Wireless Car Kits for Home/Car Audio Stereo System', 'star_rating': 1, 'helpful_votes': 0, 'total_votes': 0, 'review_date': datetime.date(2015, 8, 18), 'year': 2015}\n{'marketplace': 'US', 'customer_id': '15894288', 'review_id': 'RINWA13QJCUX', 'product_id': 'B001T8DEL4', 'product_title': 'DC car power adapter for Audiovox', 'star_rating': 5, 'helpful_votes': 0, 'total_votes': 0, 'review_date': datetime.date(2011, 10, 21), 'year': 2011}\n",
					"output_type": "stream"
				},
				{
					"name": "stderr",
					"text": "Sort Sample: 100%|##########| 10/10 [00:01<00:00,  8.09it/s]\nShuffle Map: 100%|##########| 10/10 [00:04<00:00,  2.37it/s]\nShuffle Reduce:   0%|          | 0/10 [00:00<?, ?it/s]\u001b[2m\u001b[36m(reduce pid=2323, ip=169.254.1.2)\u001b[0m /opt/amazon/python3.9-ray/lib/python3.9/site-packages/ray/data/_internal/pandas_block.py:216: FutureWarning: The default dtype for empty Series will be 'object' instead of 'float64' in a future version. Specify a dtype explicitly to silence this warning.\n\u001b[2m\u001b[36m(reduce pid=2323, ip=169.254.1.2)\u001b[0m   return self._table.memory_usage(index=True, deep=True).sum()\n\u001b[2m\u001b[36m(reduce pid=2322, ip=169.254.1.2)\u001b[0m /opt/amazon/python3.9-ray/lib/python3.9/site-packages/ray/data/_internal/pandas_block.py:216: FutureWarning: The default dtype for empty Series will be 'object' instead of 'float64' in a future version. Specify a dtype explicitly to silence this warning.\n\u001b[2m\u001b[36m(reduce pid=2322, ip=169.254.1.2)\u001b[0m   return self._table.memory_usage(index=True, deep=True).sum()\n\u001b[2m\u001b[36m(reduce pid=2324, ip=169.254.1.2)\u001b[0m /opt/amazon/python3.9-ray/lib/python3.9/site-packages/ray/data/_internal/pandas_block.py:216: FutureWarning: The default dtype for empty Series will be 'object' instead of 'float64' in a future version. Specify a dtype explicitly to silence this warning.\n\u001b[2m\u001b[36m(reduce pid=2324, ip=169.254.1.2)\u001b[0m   return self._table.memory_usage(index=True, deep=True).sum()\n\u001b[2m\u001b[36m(reduce pid=1784, ip=169.254.1.2)\u001b[0m /opt/amazon/python3.9-ray/lib/python3.9/site-packages/ray/data/_internal/pandas_block.py:216: FutureWarning: The default dtype for empty Series will be 'object' instead of 'float64' in a future version. Specify a dtype explicitly to silence this warning.\n\u001b[2m\u001b[36m(reduce pid=1784, ip=169.254.1.2)\u001b[0m   return self._table.memory_usage(index=True, deep=True).sum()\n\u001b[2m\u001b[36m(reduce pid=1785, ip=169.254.1.2)\u001b[0m /opt/amazon/python3.9-ray/lib/python3.9/site-packages/ray/data/_internal/pandas_block.py:216: FutureWarning: The default dtype for empty Series will be 'object' instead of 'float64' in a future version. Specify a dtype explicitly to silence this warning.\n\u001b[2m\u001b[36m(reduce pid=1785, ip=169.254.1.2)\u001b[0m   return self._table.memory_usage(index=True, deep=True).sum()\n\u001b[2m\u001b[36m(reduce pid=1786, ip=169.254.1.2)\u001b[0m /opt/amazon/python3.9-ray/lib/python3.9/site-packages/ray/data/_internal/pandas_block.py:216: FutureWarning: The default dtype for empty Series will be 'object' instead of 'float64' in a future version. Specify a dtype explicitly to silence this warning.\n\u001b[2m\u001b[36m(reduce pid=1786, ip=169.254.1.2)\u001b[0m   return self._table.memory_usage(index=True, deep=True).sum()\nShuffle Reduce: 100%|##########| 10/10 [00:31<00:00,  3.12s/it]\n",
					"output_type": "stream"
				}
			]
		},
		{
			"cell_type": "markdown",
			"source": "# Clean up",
			"metadata": {}
		},
		{
			"cell_type": "code",
			"source": "",
			"metadata": {},
			"execution_count": null,
			"outputs": []
		}
	]
}